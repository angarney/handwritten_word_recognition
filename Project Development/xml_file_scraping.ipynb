{
 "cells": [
  {
   "cell_type": "code",
   "execution_count": null,
   "metadata": {},
   "outputs": [],
   "source": [
    "#General packages\n",
    "import pickle\n",
    "from pathlib import Path\n",
    "from bs4 import BeautifulSoup\n",
    "import pandas as pd"
   ]
  },
  {
   "cell_type": "code",
   "execution_count": null,
   "metadata": {},
   "outputs": [],
   "source": [
    "#Function to scrape all xml files\n",
    "word_id_list = []\n",
    "word_text_list = []\n",
    "\n",
    "def scrape_xml_files(xml_file_location):\n",
    "    list_of_xml_files = Path(xml_file_location).glob('*.xml')\n",
    "    for count, file in enumerate(list_of_xml_files):\n",
    "        file_content = []\n",
    "        with open(file, \"r\") as file: #Read in file\n",
    "            file_content = file.readlines()\n",
    "            file_content = \"\".join(file_content)\n",
    "            file_soup = BeautifulSoup(file_content, \"lxml\")\n",
    "        for word in file_soup.find_all('word'):\n",
    "            word_id_list.append(word['id'])\n",
    "            word_text_list.append(word['text'])\n",
    "        if count%100 == 0:\n",
    "            print(count, \"file(s) completed\")\n",
    "    return print('Finished!')\n",
    "\n",
    "\n",
    "#Run function\n",
    "xml_file_location = '/Users/ANGar/Documents/Metis/Data Science and Machine Learning/Bootcamp Projects/Deep_Learning_Project/xml'\n",
    "\n",
    "scrape_xml_files(xml_file_location)\n",
    "\n",
    "#Convert to dataframe\n",
    "word_df = pd.DataFrame({'word_id': word_id_list, 'word_text': word_text_list})\n",
    "\n",
    "#Pickle for easier use\n",
    "pickle.dump(word_df, open('word_df','wb'))"
   ]
  }
 ],
 "metadata": {
  "interpreter": {
   "hash": "1eded8408b26e213e3fdc7f5ecdeaed7f1f6a5925886502afa388d527352be2f"
  },
  "kernelspec": {
   "display_name": "Python 3.8.8 64-bit ('Metis': conda)",
   "name": "python3"
  },
  "language_info": {
   "name": "python",
   "version": ""
  },
  "orig_nbformat": 4
 },
 "nbformat": 4,
 "nbformat_minor": 2
}